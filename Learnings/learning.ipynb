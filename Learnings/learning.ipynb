{
 "cells": [
  {
   "cell_type": "code",
   "execution_count": 2,
   "metadata": {},
   "outputs": [
    {
     "name": "stdout",
     "output_type": "stream",
     "text": [
      "Welome to Data Structure and Algorithms\n"
     ]
    }
   ],
   "source": [
    "print(\"Welome to Data Structure and Algorithms\")"
   ]
  },
  {
   "cell_type": "code",
   "execution_count": null,
   "metadata": {},
   "outputs": [],
   "source": [
    "trust = [[1,3],[2,3]]\n",
    "\n",
    "my_trust = {}\n",
    "for tst in trust:\n",
    "    if len(my_trust)==0:\n",
    "        my_trust[tst[1]]=tst[0]\n",
    "    else:\n",
    "        my_trust[tst[1]]"
   ]
  }
 ],
 "metadata": {
  "kernelspec": {
   "display_name": "base",
   "language": "python",
   "name": "python3"
  },
  "language_info": {
   "codemirror_mode": {
    "name": "ipython",
    "version": 3
   },
   "file_extension": ".py",
   "mimetype": "text/x-python",
   "name": "python",
   "nbconvert_exporter": "python",
   "pygments_lexer": "ipython3",
   "version": "3.9.7"
  },
  "orig_nbformat": 4
 },
 "nbformat": 4,
 "nbformat_minor": 2
}
